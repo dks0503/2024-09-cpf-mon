{
  "nbformat": 4,
  "nbformat_minor": 0,
  "metadata": {
    "colab": {
      "provenance": []
    },
    "kernelspec": {
      "name": "python3",
      "display_name": "Python 3"
    },
    "language_info": {
      "name": "python"
    }
  },
  "cells": [
    {
      "cell_type": "code",
      "execution_count": 4,
      "metadata": {
        "colab": {
          "base_uri": "https://localhost:8080/"
        },
        "id": "z2iTPBEjdNBa",
        "outputId": "ec5f18ac-e79d-48b6-8ce5-068966deeef0"
      },
      "outputs": [
        {
          "output_type": "stream",
          "name": "stdout",
          "text": [
            "저는 멍청합니다\n"
          ]
        }
      ],
      "source": [
        "print(\"저는 멍청합니다\")"
      ]
    },
    {
      "cell_type": "code",
      "source": [
        "# 일ㄴ"
      ],
      "metadata": {
        "id": "Nqy10vRbdxyJ"
      },
      "execution_count": 5,
      "outputs": []
    }
  ]
}